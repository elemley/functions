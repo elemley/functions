{
 "cells": [
  {
   "cell_type": "markdown",
   "metadata": {},
   "source": [
    "# Functions - Chapter 3"
   ]
  },
  {
   "cell_type": "markdown",
   "metadata": {},
   "source": [
    "## 3.1 Function Basics\n",
    "Like in other programming languages there is a mechanism for implementing a set of tasks that is used frequently, a *function*.\n",
    "\n",
    "Functions have:\n",
    "- input arguments\n",
    "- output arguments\n",
    "- body of the function that contains the steps to execute\n",
    "\n",
    "There are many built-in functions: *type, len*, etc...\n",
    "\n"
   ]
  },
  {
   "cell_type": "code",
   "execution_count": 1,
   "metadata": {},
   "outputs": [
    {
     "name": "stdout",
     "output_type": "stream",
     "text": [
      "<class 'builtin_function_or_method'>\n",
      "<class 'builtin_function_or_method'>\n"
     ]
    },
    {
     "ename": "NameError",
     "evalue": "name 'math' is not defined",
     "output_type": "error",
     "traceback": [
      "\u001b[0;31m---------------------------------------------------------------------------\u001b[0m",
      "\u001b[0;31mNameError\u001b[0m                                 Traceback (most recent call last)",
      "\u001b[0;32m<ipython-input-1-457489f84e59>\u001b[0m in \u001b[0;36m<module>\u001b[0;34m\u001b[0m\n\u001b[1;32m      3\u001b[0m \u001b[0;34m\u001b[0m\u001b[0m\n\u001b[1;32m      4\u001b[0m \u001b[0;32mfrom\u001b[0m \u001b[0mmath\u001b[0m \u001b[0;32mimport\u001b[0m \u001b[0;34m*\u001b[0m\u001b[0;34m\u001b[0m\u001b[0;34m\u001b[0m\u001b[0m\n\u001b[0;32m----> 5\u001b[0;31m \u001b[0mprint\u001b[0m\u001b[0;34m(\u001b[0m\u001b[0mtype\u001b[0m\u001b[0;34m(\u001b[0m\u001b[0mmath\u001b[0m\u001b[0;34m.\u001b[0m\u001b[0msin\u001b[0m\u001b[0;34m)\u001b[0m\u001b[0;34m)\u001b[0m\u001b[0;34m\u001b[0m\u001b[0;34m\u001b[0m\u001b[0m\n\u001b[0m\u001b[1;32m      6\u001b[0m \u001b[0;34m\u001b[0m\u001b[0m\n\u001b[1;32m      7\u001b[0m \u001b[0;32mimport\u001b[0m \u001b[0mnumpy\u001b[0m \u001b[0;32mas\u001b[0m \u001b[0mnp\u001b[0m\u001b[0;34m\u001b[0m\u001b[0;34m\u001b[0m\u001b[0m\n",
      "\u001b[0;31mNameError\u001b[0m: name 'math' is not defined"
     ]
    }
   ],
   "source": [
    "print(type(len))\n",
    "print(type(abs))\n",
    "\n",
    "from math import *\n",
    "print(type(math.sin))\n",
    "\n",
    "import numpy as np\n",
    "print(type(np.linspace))\n"
   ]
  },
  {
   "cell_type": "markdown",
   "metadata": {},
   "source": [
    "### Define your own functions\n",
    "\n",
    "Use the keyword *def* to define the function... it's not required to return something, but often you will. See example."
   ]
  },
  {
   "cell_type": "code",
   "execution_count": null,
   "metadata": {},
   "outputs": [],
   "source": [
    "def area_sphere(diameter):\n",
    "    # area = pi * d^2\n",
    "    area = pi*pow(diameter,2)\n",
    "    return area\n",
    "\n",
    "d = 2.05   #cm\n",
    "\n",
    "#Below is the way a function is \"called\"\n",
    "sphere_area = area_sphere(d)\n",
    "print(f\"The area of a sphere with a diameter of {d} cm is {sphere_area} cm^2.\\n\")\n",
    "\n",
    "#do we really need all of those digits...\n",
    "print(f\"The area of a sphere with a diameter of {d} cm is {sphere_area:.3f} cm^2.\\n\")"
   ]
  },
  {
   "cell_type": "markdown",
   "metadata": {},
   "source": [
    "### Functions with multiple inputs and outputs\n",
    "\n",
    "Most of the time you will be sending multiple things/objects to a function. And sometimes you will be returning multiple things/objects. See examples."
   ]
  },
  {
   "cell_type": "code",
   "execution_count": null,
   "metadata": {},
   "outputs": [],
   "source": [
    "def area_surf_cyl(diameter,length):\n",
    "    # surf area = pi*d*l + 2*pi/4*d^2 = pi*d*(l + d/2)\n",
    "    area = pi*diameter*(length + diameter/2)\n",
    "    return area\n",
    "\n",
    "d_cm = 1.7\n",
    "l_cm = 5.2\n",
    "print(f\"The area of a cylinder with a diameter of {d_cm} cm and a length of {l_cm} cm is {area_surf_cyl(d_cm,l_cm):.3f}.\\n\")"
   ]
  },
  {
   "cell_type": "code",
   "execution_count": null,
   "metadata": {},
   "outputs": [],
   "source": [
    "def vec_components(magnitude, angle_rads):\n",
    "    #Note we are assuming magnitude is not negative\n",
    "    x_comp = magnitude*cos(angle_rads)\n",
    "    y_comp = magnitude*sin(angle_rads)\n",
    "    return x_comp, y_comp        #This is how you return multiple things\n",
    "\n",
    "#vector\n",
    "magnitude = 1.78      #m\n",
    "direction = -35.0      #degrees\n",
    "\n",
    "#See line below -  you can return more than one thing!!\n",
    "x,y = vec_components(magnitude,radians(direction))\n",
    "print(f\"A vector with a length of {magnitude} m and direction of {direction} degrees has an x-component of {x:.3f} and a y-component of {y:.3f}.\\n\")"
   ]
  },
  {
   "cell_type": "markdown",
   "metadata": {},
   "source": [
    "### Using lists and objects as function inputs/outputs\n",
    "\n",
    "You can send almost anything to a function and return almost anything from a function."
   ]
  },
  {
   "cell_type": "code",
   "execution_count": null,
   "metadata": {},
   "outputs": [],
   "source": [
    "#I have two ways of doing the next program for find the dot product - one that does NO error checking and one that does good error checking\n",
    "\n",
    "#No error checking\n",
    "\n",
    "def dot_prod_simple(vec1, vec2):\n",
    "    summ = 0\n",
    "    for i in range(0,len(vec1)):\n",
    "        summ+=vec1[i]*vec2[i]\n",
    "    return summ\n",
    "\n",
    "vec1 = [1.0, 2.0, 3.0, 5.0]\n",
    "vec2 = [-1.0, 2.0, -3.0, 5.0]       #Try this with both correct number and incorrect number of elements\n",
    "\n",
    "prod1 = dot_prod_simple(vec1,vec2)\n",
    "print(f\"The product of\\n{vec1} and\\n{vec2}\\nequals {prod}.\\n\" )\n"
   ]
  },
  {
   "cell_type": "code",
   "execution_count": null,
   "metadata": {},
   "outputs": [],
   "source": [
    "#This example is more involved than the others... it's got some bells and whistles.I have added a lot of comments\n",
    "\n",
    "def dot_prod(vec1,vec2):\n",
    "    #compute dot product of two vectors... vector is input as a list\n",
    "    summ = 0       #I am avoiding the keyword sum\n",
    "    if len(vec1) == len(vec2):     # Make sure they have the same number of elements\n",
    "        for i in range(0,len(vec1)):\n",
    "            summ+=vec1[i]*vec2[i]         #The main action in the function... multiply vector components and add to the total in summ\n",
    "        return True, summ\n",
    "        #The first return value is whether the calc could happen or not, then the calculated value\n",
    "    else:\n",
    "        return False, \"Could not be computed because vectors had different number of elements!\"\n",
    "        #The first return value is whether the calc could happen or not, then an error message you can use\n",
    "\n",
    "vec3 = [1.0, 2.0, 3.0, 5.0]\n",
    "vec4 = [-1.0, 2.0, -3.0, 5.0]       #Try this with both correct number and incorrect number of elements\n",
    "\n",
    "success,prod = dot_prod(vec3,vec4)\n",
    "#print(success,prod)\n",
    "\n",
    "if success:\n",
    "    print(f\"The product of\\n{vec3} and\\n{vec4}\\nequals {prod}.\\n\" )\n",
    "else:\n",
    "    print(f\"The product of\\n{vec3} and\\n{vec4}\\n{prod}.\\n\" )    #By sending an error message back in the prod variable we can make use of it here."
   ]
  },
  {
   "cell_type": "markdown",
   "metadata": {},
   "source": [
    "## 3.2 Local Variables and Global Variables\n",
    "\n",
    "Variables in functions are separate from variables in the \"main\" part of a program. They might have the same name, but they are stored at different places in memory. See small demo program below.\n"
   ]
  },
  {
   "cell_type": "code",
   "execution_count": 5,
   "metadata": {},
   "outputs": [
    {
     "name": "stdout",
     "output_type": "stream",
     "text": [
      "The variable called vol has the value of 0 before the function is called.\n",
      "\n",
      "A cylinder with a diameter of 0.15 and a length of 0.31 has a volume of 5.478e-03.\n",
      "\n",
      "The variable called vol has the value of 0 after the function is called.\n",
      "\n"
     ]
    }
   ],
   "source": [
    "def volume_cyl(d,l):\n",
    "    vol = pi/4*pow(d,2)*l\n",
    "    print(f\"A cylinder with a diameter of {d} and a length of {l} has a volume of {vol:.3e}.\\n\")\n",
    "\n",
    "vol = 0\n",
    "print(f\"The variable called vol has the value of {vol} before the function is called.\\n\")\n",
    "\n",
    "d_m = 0.15\n",
    "l_m = 0.31\n",
    "\n",
    "volume_cyl(d_m,l_m)\n",
    "\n",
    "print(f\"The variable called vol has the value of {vol} after the function is called.\\n\")\n",
    "    \n",
    "          "
   ]
  },
  {
   "cell_type": "markdown",
   "metadata": {},
   "source": [
    "## 3.4 Nested Functions\n",
    "Sometimes a function is only needed inside of another function. In this case one can define a function that is accessible only within the *parent function.*\n"
   ]
  },
  {
   "cell_type": "code",
   "execution_count": 8,
   "metadata": {},
   "outputs": [
    {
     "name": "stdout",
     "output_type": "stream",
     "text": [
      "The distance between the points above is 1.414e+00.\n",
      "\n"
     ]
    }
   ],
   "source": [
    "def dist_xyz(xpair,ypair,zpair):\n",
    "    def delta_coord(pair):\n",
    "        return pair[1]-pair[0]\n",
    "    \n",
    "    deltax=delta_coord(xpair)\n",
    "    deltay=delta_coord(ypair)\n",
    "    deltaz=delta_coord(zpair)\n",
    "    \n",
    "    dist = sqrt(pow(deltax,2)+pow(deltay,2)+pow(deltaz,2))\n",
    "    return dist\n",
    "\n",
    "x = [0,1]\n",
    "y = [0,1]\n",
    "z = [0,0]\n",
    "\n",
    "print(f\"The distance between the points above is {dist_xyz(x,y,z):.3e}.\\n\")"
   ]
  },
  {
   "cell_type": "markdown",
   "metadata": {},
   "source": [
    "## 3.4 Lambda functions\n",
    "\n",
    "When you need to create a really short 1-line function you can use lambda functions. See below."
   ]
  },
  {
   "cell_type": "code",
   "execution_count": 11,
   "metadata": {},
   "outputs": [
    {
     "name": "stdout",
     "output_type": "stream",
     "text": [
      "4 raised to the third power is 64.0.\n",
      "\n",
      "5 raised to the third power is 125.0.\n",
      "\n"
     ]
    }
   ],
   "source": [
    "cubed = lambda x: pow(x,3)\n",
    "\n",
    "print(f\"4 raised to the third power is {cubed(4)}.\\n\")\n",
    "print(f\"5 raised to the third power is {cubed(5)}.\\n\")"
   ]
  },
  {
   "cell_type": "markdown",
   "metadata": {},
   "source": [
    "## 3.5 Functions as Arguments\n",
    "\n",
    "As weird as it may seem on occasion if it is nice to be able to pass a function itself as a *variable* to another function. Here's an example."
   ]
  },
  {
   "cell_type": "code",
   "execution_count": 18,
   "metadata": {},
   "outputs": [
    {
     "name": "stdout",
     "output_type": "stream",
     "text": [
      "The following is a trig. identity: sin^x + cos^2x = 1. Try different values of x.\n",
      "\n",
      "1.0.\n",
      "\n"
     ]
    }
   ],
   "source": [
    "\n",
    "def fsq_plus_gsq(f,g,x):\n",
    "    return pow(f(x),2) + pow(g(x),2)\n",
    "\n",
    "\n",
    "print(f\"The following is a trig. identity: sin^x + cos^2x = 1. Try different values of x.\\n\")\n",
    "x = pi/6\n",
    "print(f\"{fsq_plus_gsq(sin,cos,x)}.\\n\")\n",
    "\n",
    "\n",
    "\n"
   ]
  },
  {
   "cell_type": "code",
   "execution_count": null,
   "metadata": {},
   "outputs": [],
   "source": []
  }
 ],
 "metadata": {
  "kernelspec": {
   "display_name": "Python 3",
   "language": "python",
   "name": "python3"
  },
  "language_info": {
   "codemirror_mode": {
    "name": "ipython",
    "version": 3
   },
   "file_extension": ".py",
   "mimetype": "text/x-python",
   "name": "python",
   "nbconvert_exporter": "python",
   "pygments_lexer": "ipython3",
   "version": "3.7.4"
  }
 },
 "nbformat": 4,
 "nbformat_minor": 4
}
